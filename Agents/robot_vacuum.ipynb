{
  "cells": [
    {
      "cell_type": "markdown",
      "metadata": {
        "id": "0FyddoM3jF_d"
      },
      "source": [
        "# SBU CSE 352 - HW 1 -  Intelligent Agents: Reflex-Based Agents for the Vacuum-cleaner World\n",
        "\n",
        "---\n",
        "\n",
        "Name: Arslan Baig\n",
        "\n",
        "I understand that my submission needs to be my own work: Yes\n",
        "\n",
        "## Instructions\n",
        "\n",
        "Total Points: 100\n",
        "\n",
        "Complete this notebook. Use the provided notebook cells and insert additional code and markdown cells as needed. Only use standard packages (numpy, scipy, and built-in packages like random). Submit the completely rendered notebook as a HTML file.\n",
        "\n",
        "## Introduction\n",
        "\n",
        "In this assignment you will implement a simulator environment for an automatic vacuum cleaner robot, a set of different reflex-based agent programs, and perform a comparison study for cleaning a single room. Focus on the __cleaning phase__ which starts when the robot is activated and ends when the last dirty square in the room has been cleaned. Someone else will take care of the agent program needed to navigate back to the charging station after the room is clean.\n",
        "\n",
        "## PEAS description of the cleaning phase\n",
        "\n",
        "__Performance Measure:__ Each action costs 1 energy unit. The performance is measured as the sum of the energy units used to clean the whole room.\n",
        "\n",
        "__Environment:__ A room with $n \\times n$ squares where $n = 5$. Dirt is randomly placed on each square with probability $p = 0.2$. For simplicity, you can assume that the agent knows the size and the layout of the room (i.e., it knows $n$). To start, the agent is placed on a random square.\n",
        "\n",
        "__Actuators:__ The agent can clean the current square (action `suck`) or move to an adjacent square by going `north`, `east`, `south`, or `west`.\n",
        "\n",
        "__Sensors:__ Four bumper sensors, one for north, east, south, and west; a dirt sensor reporting dirt in the current square.  \n",
        "\n",
        "\n",
        "## The agent program for a simple randomized agent\n",
        "\n",
        "The agent program is a function that gets sensor information (the current percepts) as the arguments. The arguments are:\n",
        "\n",
        "* A dictionary with boolean entries for the for bumper sensors `north`, `east`, `west`, `south`. E.g., if the agent is on the north-west corner, `bumpers` will be `{\"north\" : True, \"east\" : False, \"south\" : False, \"west\" : True}`.\n",
        "* The dirt sensor produces a boolean.\n",
        "\n",
        "The agent returns the chosen action as a string.\n",
        "\n",
        "Here is an example implementation for the agent program of a simple randomized agent:  "
      ]
    },
    {
      "cell_type": "code",
      "execution_count": null,
      "metadata": {
        "id": "2fDxkbCajF_f"
      },
      "outputs": [],
      "source": [
        "import numpy as np\n",
        "\n",
        "actions = [\"north\", \"east\", \"west\", \"south\", \"suck\"]\n",
        "\n",
        "def simple_randomized_agent(bumpers, dirty):\n",
        "    return np.random.choice(actions)"
      ]
    },
    {
      "cell_type": "code",
      "execution_count": null,
      "metadata": {
        "id": "QrLrE1XPjF_g",
        "outputId": "9db12e5d-760c-44ce-e620-6be9b8877f20"
      },
      "outputs": [
        {
          "data": {
            "text/plain": [
              "'south'"
            ]
          },
          "execution_count": 2,
          "metadata": {},
          "output_type": "execute_result"
        }
      ],
      "source": [
        "# define percepts (current location is NW corner and it is dirty)\n",
        "bumpers = {\"north\" : True, \"east\" : False, \"south\" : False, \"west\" : True}\n",
        "dirty = True\n",
        "\n",
        "# call agent program function with percepts and it returns an action\n",
        "simple_randomized_agent(bumpers, dirty)"
      ]
    },
    {
      "cell_type": "markdown",
      "metadata": {
        "id": "GB5AWgpmjF_g"
      },
      "source": [
        "__Note:__ This is not a rational intelligent agent. It ignores its sensors and may bump into a wall repeatedly or not clean a dirty square. You will be asked to implement rational agents below."
      ]
    },
    {
      "cell_type": "markdown",
      "metadata": {
        "id": "I_r7AxrIjF_g"
      },
      "source": [
        "## Simple environment example\n",
        "\n",
        "We implement a simple simulation environment that supplies the agent with its percepts.\n",
        "The simple environment is infinite in size (bumpers are always `False`) and every square is always dirty, even if the agent cleans it. The environment function returns a performance measure which is here the number of cleaned squares (since the room is infinite and all squares are constantly dirty, the agent can never clean the whole room as required in the PEAS description above). The energy budget of the agent is specified as `max_steps`."
      ]
    },
    {
      "cell_type": "code",
      "execution_count": null,
      "metadata": {
        "id": "OdiZBgUqjF_h"
      },
      "outputs": [],
      "source": [
        "def simple_environment(agent, max_steps, verbose = True):\n",
        "    num_cleaned = 0\n",
        "\n",
        "    for i in range(max_steps):\n",
        "        dirty = True\n",
        "        bumpers = {\"north\" : False, \"south\" : False, \"west\" : False, \"east\" : False}\n",
        "\n",
        "        action = agent(bumpers, dirty)\n",
        "        if (verbose): print(\"step\", i , \"- action:\", action)\n",
        "\n",
        "        if (action == \"suck\"):\n",
        "            num_cleaned = num_cleaned + 1\n",
        "\n",
        "    return num_cleaned\n",
        "\n"
      ]
    },
    {
      "cell_type": "markdown",
      "metadata": {
        "id": "Tdt7xvQkjF_h"
      },
      "source": [
        "Do one simulation run with a simple randomized agent that has enough energy for 20 steps."
      ]
    },
    {
      "cell_type": "code",
      "execution_count": null,
      "metadata": {
        "id": "YBwp8uTEjF_h",
        "outputId": "f037190c-c7aa-4ff9-a0ed-cc5278e359ec"
      },
      "outputs": [
        {
          "name": "stdout",
          "output_type": "stream",
          "text": [
            "step 0 - action: west\n",
            "step 1 - action: north\n",
            "step 2 - action: north\n",
            "step 3 - action: north\n",
            "step 4 - action: east\n",
            "step 5 - action: suck\n",
            "step 6 - action: suck\n",
            "step 7 - action: suck\n",
            "step 8 - action: east\n",
            "step 9 - action: north\n",
            "step 10 - action: west\n",
            "step 11 - action: suck\n",
            "step 12 - action: south\n",
            "step 13 - action: north\n",
            "step 14 - action: suck\n",
            "step 15 - action: north\n",
            "step 16 - action: west\n",
            "step 17 - action: west\n",
            "step 18 - action: suck\n",
            "step 19 - action: north\n"
          ]
        },
        {
          "data": {
            "text/plain": [
              "6"
            ]
          },
          "execution_count": 4,
          "metadata": {},
          "output_type": "execute_result"
        }
      ],
      "source": [
        "simple_environment(simple_randomized_agent, max_steps = 20)"
      ]
    },
    {
      "cell_type": "markdown",
      "metadata": {
        "id": "G_qQj5brjF_i"
      },
      "source": [
        "# Tasks\n",
        "\n",
        "## General [10 Points]\n",
        "\n",
        "1. Your implementation can use libraries like math, numpy, scipy, but not libraries that implement intelligent agents or complete search algorithms. Try to keep the code simple! In this course, we want to learn about the algorithms and we often do not need to use object-oriented design, for example. If it makes your code more simple objects are okay, but try to keep the code as simple as possible.\n",
        "2. You notebook needs to be formatted professionally.\n",
        "    - Add additional markdown blocks for your description, comments in the code, add tables and use mathplotlib to produce charts where appropriate\n",
        "    - Do not show debugging output or include an excessive amount of output.\n",
        "    - Check that your PDF file is readable. For example, long lines are cut off in the PDF file. You don't have control over page breaks, so do not worry about these.\n",
        "3. Document your code. Add a short discussion of how your implementation works and your design choices.\n",
        "\n",
        "\n",
        "## Task 1: Implement a simulation environment [20 Points]\n",
        "\n",
        "The simple environment above is not very realistic. Your environment simulator needs to follow the PEAS description from above. It needs to:\n",
        "\n",
        "* Initialize the environment by storing the state of each square (clean/dirty) and making some dirty. ([Help with random numbers and arrays in Python](https://github.com/mhahsler/CS7320-AI/blob/master/HOWTOs/random_numbers_and_arrays.ipynb))\n",
        "* Keep track of the agent's position.\n",
        "* Call the agent function repeatedly and provide the agent function with the sensor inputs.  \n",
        "* React to the agent's actions. E.g, by removing dirt from a square or moving the agent around unless there is a wall in the way.\n",
        "* Keep track of the performance measure. That is, track the agent's actions until all dirty squares are clean and count the number of actions it takes the agent to complete the task.\n",
        "\n",
        "The easiest implementation for the environment is to hold an 2-dimensional array to represent if squares are clean or dirty and to call the agent function in a loop until all squares are clean or a predefined number of steps have been reached (i.e., the robot runs out of energy).\n",
        "\n",
        "The simulation environment should be a function like the `simple_environment()` and needs to work with the simple randomized agent program from above. **Use the same environment for all your agent implementations in the tasks below.**\n",
        "\n",
        "*Note on debugging:* Debugging is difficult. Make sure your environment prints enough information when you use `verbose = True`. Also, implementing a function that the environment can use to displays the room with dirt and the current position of the robot at every step is very useful.  "
      ]
    },
    {
      "cell_type": "code",
      "execution_count": 59,
      "metadata": {
        "id": "f_a8GJKYjF_i"
      },
      "outputs": [],
      "source": [
        "# Your code and description goes here\n",
        "\n",
        "#Envirnment Parameters\n",
        "\n",
        "#2) Need to take an input to retrieve an agent action based on the agent function/class being the input\n",
        "#3) Need to take a maximum steps argument in order to track whether fully clean or reached max steps\n",
        "#4) Need to turn verbose to true for bug testing\n",
        "\n",
        "#Environment Objectives\n",
        "#1) Need to initialize the 5x5 matrix in order to ensure that there is some dirty and some clean with a 0.2 chance to be dirty\n",
        "#2) Randomly spawn in the object into the matrix at a random x and y, and keep track of its location\n",
        "#3) Move the agent and clean up a square if its dirty or not\n",
        "#4) Keep track of performance measure (moving and cleaning) One action each\n",
        "\n",
        "\n",
        "\n",
        "\n",
        "import numpy as np\n",
        "import random\n",
        "\n",
        "def init_bumpers(agent_position, n):             #Initalize the bumper positions for the agent\n",
        "  bumpers = {\"north\" : False, \"south\" : False, \"west\" : False, \"east\" : False}    #set all = false to start\n",
        "  if agent_position[0] == 0:\n",
        "    bumpers[\"north\"] = True\n",
        "    bumpers[\"south\"] = False\n",
        "  elif agent_position[0] == n-1:\n",
        "    bumpers[\"south\"] = True\n",
        "    bumpers[\"north\"] = False\n",
        "  if agent_position[1] == 0:\n",
        "    bumpers[\"west\"] = True\n",
        "    bumpers[\"east\"] = False\n",
        "  elif agent_position[1] == n-1:\n",
        "    bumpers[\"east\"] = True\n",
        "    bumpers[\"west\"] = False\n",
        "\n",
        "  return bumpers           #checked every position to see if agent lies on border, then returns the set of bumper booleans\n",
        "\n",
        "def simple_environment(agent, n, max_steps, verbose = False):\n",
        "    actions = [\"north\", \"east\", \"west\", \"south\", \"suck\"]          #Initialize the action names, will include movement clarification further down\n",
        "    floor_area = np.random.choice([\"C\", \"D\"], size=(n, n), p=[0.8, 0.2])   #Initialize the floor area. C = clean, D - Dirty with a .8 and .2 split respectively\n",
        "\n",
        "    dirty_count = 0\n",
        "    performance_measure = 0\n",
        "    for i in range(n):\n",
        "      for j in range(n):\n",
        "        if(floor_area[i][j] == \"D\"):     #Count the number of dirty tiles, important for checking whether the agent has cleaned everything\n",
        "          dirty_count += 1\n",
        "\n",
        "    fully_cleaned = False if dirty_count > 0 else True      #Set this condition for if the floor fully cleaned or if max steps for the loop\n",
        "\n",
        "    agent_position = np.random.randint(0, n, size=2)         #initialize the agents starting postion - random on the board\n",
        "    bumpers = init_bumpers(agent_position, n)\n",
        "    if (verbose):\n",
        "      print(\"Generating Floor Area...\")\n",
        "      print(floor_area)\n",
        "      print(\"Placing Agent\")\n",
        "      store_position = floor_area[agent_position[0],agent_position[1]]\n",
        "      floor_area[agent_position[0],agent_position[1]] = \"A\"\n",
        "      print(floor_area)\n",
        "      floor_area[agent_position[0],agent_position[1]] = store_position\n",
        "    i = 1\n",
        "    while (performance_measure != max_steps):\n",
        "      if not fully_cleaned:\n",
        "        agent_action = agent.Agent_Move(bumpers, floor_area[agent_position[0]][agent_position[1]])\n",
        "        if (verbose): print(\"step\", i, \"- action:\", agent_action)\n",
        "        i+=1\n",
        "        if agent_action == \"suck\":\n",
        "          if(floor_area[agent_position[0]][agent_position[1]] == \"D\"):\n",
        "            floor_area[agent_position[0]][agent_position[1]] = \"C\"\n",
        "            dirty_count -= 1\n",
        "          performance_measure += 1\n",
        "          if dirty_count == 0:\n",
        "            fully_cleaned = True\n",
        "            break\n",
        "        elif agent_action == \"north\":\n",
        "          if agent_position[0] > 0:\n",
        "            agent_position[0] -= 1\n",
        "            bumpers = init_bumpers(agent_position,n)\n",
        "            performance_measure += 1\n",
        "        elif agent_action == \"south\":\n",
        "          if agent_position[0] < n-1:\n",
        "            agent_position[0] += 1\n",
        "            bumpers = init_bumpers(agent_position,n)\n",
        "            performance_measure += 1\n",
        "        elif agent_action == \"east\":\n",
        "          if agent_position[1] < n-1:\n",
        "            agent_position[1] += 1\n",
        "            bumpers = init_bumpers(agent_position, n)\n",
        "            performance_measure += 1\n",
        "        elif agent_action == \"west\":\n",
        "          if agent_position[1] > 0:\n",
        "            agent_position[1] -= 1\n",
        "            bumpers = init_bumpers(agent_position, n)\n",
        "            performance_measure += 1\n",
        "        if (verbose):\n",
        "          store_position = floor_area[agent_position[0],agent_position[1]]\n",
        "          floor_area[agent_position[0],agent_position[1]] = \"A\"\n",
        "          print(floor_area)\n",
        "          floor_area[agent_position[0],agent_position[1]] = store_position\n",
        "\n",
        "    if verbose:\n",
        "      print(\"Performance Rating : \", performance_measure)\n",
        "      print(\"Task Status: \", \"Fully Cleaned\" if fully_cleaned else \"Max Steps Reached\")\n",
        "    agent.Agent_Reset(n)\n",
        "    return performance_measure\n",
        "\n",
        "    # agent_action = agent(n,)\n",
        "class Simple_Randomized_Agent:                             #Remade Randomized agent with SAME logic to apply to ensure consistency among agent classes\n",
        "  def Agent_Reset(self, n, self_positition = (None,None), starting_position = False):\n",
        "    return\n",
        "\n",
        "  def Agent_Move(self, bumpers, dirty):\n",
        "      actions = [\"north\", \"east\", \"west\", \"south\"]\n",
        "      return np.random.choice(actions)\n",
        "\n",
        "# simple_randomized_agent = Simple_Randomized_Agent()\n",
        "# simple_environment(simple_randomized_agent,5,20)\n",
        "\n"
      ]
    },
    {
      "cell_type": "markdown",
      "metadata": {
        "id": "gXsl-EjMjF_j"
      },
      "source": [
        "## Task 2:  Implement a simple reflex agent [10 Points]\n",
        "\n",
        "The simple reflex agent randomly walks around but reacts to the bumper sensor by not bumping into the wall and to dirt with sucking. Implement the agent program as a function.\n",
        "\n",
        "_Note:_ Agents cannot directly use variable in the environment. They only gets the percepts as the arguments to the agent function."
      ]
    },
    {
      "cell_type": "code",
      "execution_count": 36,
      "metadata": {
        "id": "Q0ddGaBNjF_j",
        "colab": {
          "base_uri": "https://localhost:8080/"
        },
        "outputId": "3390775a-e175-4940-e83a-f0c32b7ab809"
      },
      "outputs": [
        {
          "output_type": "execute_result",
          "data": {
            "text/plain": [
              "200"
            ]
          },
          "metadata": {},
          "execution_count": 36
        }
      ],
      "source": [
        "# Your code and description goes here\n",
        "# Capabilities\n",
        "#1) Agent can sense if the current block is dirty or not\n",
        "#2) Agent does not know its position\n",
        "#3) Agent can respond to the bumpers, and not bump into them When choosing an action\n",
        "#4) Agent cannot keep track of previous locations\n",
        "\n",
        "class Simple_Reflex_Agent:\n",
        "  def Agent_Reset(self, n, self_positition = (None,None), starting_position = False):\n",
        "    return\n",
        "\n",
        "  def Agent_Move(self, bumpers, dirty):\n",
        "    actions = [\"north\", \"east\", \"west\", \"south\"]\n",
        "    if(bumpers[\"north\"]):\n",
        "      actions.remove(\"north\")\n",
        "    elif (bumpers[\"south\"]):\n",
        "      actions.remove(\"south\")\n",
        "    if(bumpers[\"west\"]):\n",
        "      actions.remove(\"west\")\n",
        "    elif (bumpers[\"east\"]):\n",
        "      actions.remove(\"east\")\n",
        "    if(dirty == \"D\"):\n",
        "      return \"suck\"\n",
        "    else:\n",
        "      return np.random.choice(actions)\n",
        "\n",
        "\n",
        "simple_agent = Simple_Reflex_Agent()\n",
        "simple_environment(simple_agent,7,200)"
      ]
    },
    {
      "cell_type": "markdown",
      "metadata": {
        "id": "M1q8qmwvjF_j"
      },
      "source": [
        "## Task 3: Implement a model-based reflex agent [20 Points]\n",
        "\n",
        "Model-based agents use a state to keep track of what they have done and perceived so far. Your agent needs to find out where it is located and then keep track of its current location. You also need a set of rules based on the state and the percepts to make sure that the agent will clean the whole room. For example, the agent can move to a corner to determine its location and then it can navigate through the whole room and clean dirty squares.\n",
        "\n",
        "Describe how you define the __agent state__ and how your agent works before implementing it. ([Help with implementing state information on Python](https://github.com/mhahsler/CS7320-AI/blob/master/HOWTOs/store_agent_state_information.ipynb))"
      ]
    },
    {
      "cell_type": "code",
      "execution_count": 273,
      "metadata": {
        "id": "daAwOtmTjF_j"
      },
      "outputs": [],
      "source": [
        "# Your short description of the state and your implementation goes here\n",
        "\n",
        "#State :\n",
        "# I Intend to make the state position within the agent be a grid of the matrix itself. This is the best way for the agent to know and keep track of what is happening in the environment\n",
        "# up until it visits each point. My idea is to spawn the agent in, and the initial position would be unknown, but to assume every square in the matrix is dirty. This way, the agent state at the\n",
        "# very beginning will recognize that we have to navigate the entire matrix and find the end point\n",
        "#Implemetation:\n",
        "#To implement this bot, I will have it traverse to location (0,0), or the North-West corner of the matrix. When the robot is initialized, its self position will be unknown. It will calibrate its initial position\n",
        "#based on the initial readings of the bumpers it gets. Moving forward, it will then traverse West until the west bumper is true making sure to clean any along the way. Once the position is recognized, The agent will go from\n",
        "#west to east, and then north to south, and traverse back and forth until it reaches South-East/ North-East corner OR the floor is completely clean"
      ]
    },
    {
      "cell_type": "code",
      "execution_count": 57,
      "metadata": {
        "id": "wZqL8CCAjF_j",
        "colab": {
          "base_uri": "https://localhost:8080/"
        },
        "outputId": "a50f94b9-591f-486f-f9b4-c15125acb791"
      },
      "outputs": [
        {
          "output_type": "stream",
          "name": "stdout",
          "text": [
            "0\n",
            "1\n",
            "2\n",
            "3\n",
            "4\n",
            "5\n",
            "6\n",
            "7\n",
            "8\n",
            "9\n",
            "10\n",
            "11\n",
            "12\n",
            "13\n",
            "14\n",
            "15\n",
            "16\n",
            "17\n",
            "18\n",
            "19\n",
            "20\n",
            "21\n",
            "22\n",
            "23\n",
            "24\n",
            "25\n",
            "26\n",
            "27\n",
            "28\n",
            "29\n",
            "30\n",
            "31\n",
            "32\n",
            "33\n",
            "34\n",
            "35\n",
            "36\n",
            "37\n",
            "38\n",
            "39\n",
            "40\n",
            "41\n",
            "42\n",
            "43\n",
            "44\n",
            "45\n",
            "46\n",
            "47\n",
            "48\n",
            "49\n",
            "50\n",
            "51\n",
            "52\n",
            "53\n",
            "54\n",
            "55\n",
            "56\n",
            "57\n",
            "58\n",
            "59\n",
            "60\n",
            "61\n",
            "62\n",
            "63\n",
            "64\n",
            "65\n",
            "66\n",
            "67\n",
            "68\n",
            "69\n",
            "70\n",
            "71\n",
            "72\n",
            "73\n",
            "74\n",
            "75\n",
            "76\n",
            "77\n",
            "78\n",
            "79\n",
            "80\n",
            "81\n",
            "82\n",
            "83\n",
            "84\n",
            "85\n",
            "86\n",
            "87\n",
            "88\n",
            "89\n",
            "90\n",
            "91\n",
            "92\n",
            "93\n",
            "94\n",
            "95\n",
            "96\n",
            "97\n",
            "98\n",
            "99\n",
            "27.66\n"
          ]
        }
      ],
      "source": [
        "# Your code goes here\n",
        "\n",
        "class Model_Reflex_Agent:\n",
        "\n",
        "  def __init__(self, n, self_positition = (None,None), starting_position = False):\n",
        "    self.self_position = self_positition\n",
        "    self.starting_position = starting_position\n",
        "    self.floor_mapping = [[\"D\"] * n for _ in range(n)]\n",
        "    self.last_position = (None,None)\n",
        "\n",
        "  def Agent_Reset(self, n, self_positition = (None,None), starting_position = False):\n",
        "    self.self_position = self_positition\n",
        "    self.starting_position = starting_position\n",
        "    self.floor_mapping = [[\"D\"] * n for _ in range(n)]\n",
        "    self.last_position = (None,None)\n",
        "\n",
        "  def Agent_Move(self,bumpers,dirty, verbose = False):\n",
        "    if(dirty == \"D\"):\n",
        "      return \"suck\"\n",
        "\n",
        "    if not self.starting_position:\n",
        "      if not bumpers[\"north\"]:\n",
        "        return \"north\"\n",
        "      elif not bumpers[\"west\"]:\n",
        "        return \"west\"\n",
        "      else:\n",
        "        self.starting_position = True\n",
        "        self.self_position = (0,0)\n",
        "\n",
        "    self.floor_mapping[self.self_position[0]][self.self_position[1]] = \"C\"\n",
        "    if(self.self_position[0] % 2 == 0):\n",
        "      if not bumpers[\"east\"]:\n",
        "        self.self_position = (self.self_position[0],self.self_position[1]+1)\n",
        "        if verbose:\n",
        "          for row in self.floor_mapping:\n",
        "            print(row)\n",
        "          print()\n",
        "        return \"east\"\n",
        "      else:\n",
        "        self.self_position = (self.self_position[0]+1,self.self_position[1])\n",
        "        if verbose:\n",
        "          for row in self.floor_mapping:\n",
        "            print(row)\n",
        "          print()\n",
        "        return \"south\"\n",
        "    else:\n",
        "      if not bumpers[\"west\"]:\n",
        "        self.self_position = (self.self_position[0],self.self_position[1]-1)\n",
        "        if verbose:\n",
        "          for row in self.floor_mapping:\n",
        "            print(row)\n",
        "          print()\n",
        "        return \"west\"\n",
        "      else:\n",
        "        self.self_position = (self.self_position[0]+1,self.self_position[1])\n",
        "        if verbose:\n",
        "          for row in self.floor_mapping:\n",
        "            print(row)\n",
        "          print()\n",
        "        return \"south\"\n",
        "\n",
        "n = 5\n",
        "model_agent = Model_Reflex_Agent(n)\n",
        "model_5x5 = 0\n",
        "for i in range(100):\n",
        "  print(i)\n",
        "  model_5x5 += simple_environment(model_agent,5,100000)\n",
        "print(model_5x5/100)"
      ]
    },
    {
      "cell_type": "markdown",
      "metadata": {
        "id": "Qi3JK-9hjF_k"
      },
      "source": [
        "\\## Task 4: Simulation study [30 Points]\n",
        "\n",
        "---\n",
        "\n",
        "\n",
        "\n",
        "Compare the performance (the performance measure is defined in the PEAS description above) of the agents using  environments of different size. E.g., $5 \\times 5$, $10 \\times 10$ and\n",
        "$100 \\times 100$. Use 100 random runs for each with 100000 max steps. Present the results using tables and graphs. Discuss the differences between the agents.\n",
        "([Help with charts and tables in Python](https://github.com/mhahsler/CS7320-AI/blob/master/HOWTOs/charts_and_tables.ipynb))"
      ]
    },
    {
      "cell_type": "code",
      "execution_count": 60,
      "metadata": {
        "id": "ccpkRw9VjF_k",
        "colab": {
          "base_uri": "https://localhost:8080/",
          "height": 346
        },
        "outputId": "eaa45545-aa07-4bee-ee82-b60defb2f96a"
      },
      "outputs": [
        {
          "output_type": "error",
          "ename": "KeyboardInterrupt",
          "evalue": "",
          "traceback": [
            "\u001b[0;31m---------------------------------------------------------------------------\u001b[0m",
            "\u001b[0;31mKeyboardInterrupt\u001b[0m                         Traceback (most recent call last)",
            "\u001b[0;32m<ipython-input-60-cab3595d7bfe>\u001b[0m in \u001b[0;36m<cell line: 0>\u001b[0;34m()\u001b[0m\n\u001b[1;32m     15\u001b[0m \u001b[0;34m\u001b[0m\u001b[0m\n\u001b[1;32m     16\u001b[0m \u001b[0;32mfor\u001b[0m \u001b[0mi\u001b[0m \u001b[0;32min\u001b[0m \u001b[0mrange\u001b[0m\u001b[0;34m(\u001b[0m\u001b[0;36m100\u001b[0m\u001b[0;34m)\u001b[0m\u001b[0;34m:\u001b[0m\u001b[0;34m\u001b[0m\u001b[0;34m\u001b[0m\u001b[0m\n\u001b[0;32m---> 17\u001b[0;31m   \u001b[0mrandom_5x5\u001b[0m \u001b[0;34m+=\u001b[0m \u001b[0msimple_environment\u001b[0m\u001b[0;34m(\u001b[0m\u001b[0mrandom_agent\u001b[0m\u001b[0;34m,\u001b[0m\u001b[0;36m5\u001b[0m\u001b[0;34m,\u001b[0m\u001b[0;36m100000\u001b[0m\u001b[0;34m)\u001b[0m\u001b[0;34m\u001b[0m\u001b[0;34m\u001b[0m\u001b[0m\n\u001b[0m\u001b[1;32m     18\u001b[0m   \u001b[0mrandom_10x10\u001b[0m \u001b[0;34m+=\u001b[0m \u001b[0msimple_environment\u001b[0m\u001b[0;34m(\u001b[0m\u001b[0mrandom_agent\u001b[0m\u001b[0;34m,\u001b[0m\u001b[0;36m10\u001b[0m\u001b[0;34m,\u001b[0m\u001b[0;36m100000\u001b[0m\u001b[0;34m)\u001b[0m\u001b[0;34m\u001b[0m\u001b[0;34m\u001b[0m\u001b[0m\n\u001b[1;32m     19\u001b[0m   \u001b[0mrandom_100x100\u001b[0m \u001b[0;34m+=\u001b[0m \u001b[0msimple_environment\u001b[0m\u001b[0;34m(\u001b[0m\u001b[0mrandom_agent\u001b[0m\u001b[0;34m,\u001b[0m\u001b[0;36m100\u001b[0m\u001b[0;34m,\u001b[0m\u001b[0;36m100000\u001b[0m\u001b[0;34m)\u001b[0m\u001b[0;34m\u001b[0m\u001b[0;34m\u001b[0m\u001b[0m\n",
            "\u001b[0;32m<ipython-input-59-3b4f03c9be3c>\u001b[0m in \u001b[0;36msimple_environment\u001b[0;34m(agent, n, max_steps, verbose)\u001b[0m\n\u001b[1;32m     60\u001b[0m       \u001b[0mfloor_area\u001b[0m\u001b[0;34m[\u001b[0m\u001b[0magent_position\u001b[0m\u001b[0;34m[\u001b[0m\u001b[0;36m0\u001b[0m\u001b[0;34m]\u001b[0m\u001b[0;34m,\u001b[0m\u001b[0magent_position\u001b[0m\u001b[0;34m[\u001b[0m\u001b[0;36m1\u001b[0m\u001b[0;34m]\u001b[0m\u001b[0;34m]\u001b[0m \u001b[0;34m=\u001b[0m \u001b[0mstore_position\u001b[0m\u001b[0;34m\u001b[0m\u001b[0;34m\u001b[0m\u001b[0m\n\u001b[1;32m     61\u001b[0m     \u001b[0mi\u001b[0m \u001b[0;34m=\u001b[0m \u001b[0;36m1\u001b[0m\u001b[0;34m\u001b[0m\u001b[0;34m\u001b[0m\u001b[0m\n\u001b[0;32m---> 62\u001b[0;31m     \u001b[0;32mwhile\u001b[0m \u001b[0;34m(\u001b[0m\u001b[0mperformance_measure\u001b[0m \u001b[0;34m!=\u001b[0m \u001b[0mmax_steps\u001b[0m\u001b[0;34m)\u001b[0m\u001b[0;34m:\u001b[0m\u001b[0;34m\u001b[0m\u001b[0;34m\u001b[0m\u001b[0m\n\u001b[0m\u001b[1;32m     63\u001b[0m       \u001b[0;32mif\u001b[0m \u001b[0;32mnot\u001b[0m \u001b[0mfully_cleaned\u001b[0m\u001b[0;34m:\u001b[0m\u001b[0;34m\u001b[0m\u001b[0;34m\u001b[0m\u001b[0m\n\u001b[1;32m     64\u001b[0m         \u001b[0magent_action\u001b[0m \u001b[0;34m=\u001b[0m \u001b[0magent\u001b[0m\u001b[0;34m.\u001b[0m\u001b[0mAgent_Move\u001b[0m\u001b[0;34m(\u001b[0m\u001b[0mbumpers\u001b[0m\u001b[0;34m,\u001b[0m \u001b[0mfloor_area\u001b[0m\u001b[0;34m[\u001b[0m\u001b[0magent_position\u001b[0m\u001b[0;34m[\u001b[0m\u001b[0;36m0\u001b[0m\u001b[0;34m]\u001b[0m\u001b[0;34m]\u001b[0m\u001b[0;34m[\u001b[0m\u001b[0magent_position\u001b[0m\u001b[0;34m[\u001b[0m\u001b[0;36m1\u001b[0m\u001b[0;34m]\u001b[0m\u001b[0;34m]\u001b[0m\u001b[0;34m)\u001b[0m\u001b[0;34m\u001b[0m\u001b[0;34m\u001b[0m\u001b[0m\n",
            "\u001b[0;31mKeyboardInterrupt\u001b[0m: "
          ]
        }
      ],
      "source": [
        "# Your code goes here\n",
        "#Implement tests with all 3 bots, turning verbose off and then running it so that we can see their performance\n",
        "#in all of the setting below. Get all tests done in one round of the code, so that it is clear for submission\n",
        "\n",
        "random_agent = Simple_Randomized_Agent()\n",
        "simple_agent = Simple_Reflex_Agent()\n",
        "model_agent_5x5 = Model_Reflex_Agent(5)\n",
        "model_agent_10x10 = Model_Reflex_Agent(10)\n",
        "model_agent_100x100 = Model_Reflex_Agent(100)\n",
        "\n",
        "\n",
        "random_5x5 = random_10x10 = random_100x100 = 0\n",
        "simple_5x5 = simple_10x10 = simple_100x100 = 0\n",
        "model_5x5 = model_10x10 = model_100x100 = 0\n",
        "\n",
        "for i in range(100):\n",
        "  random_5x5 += simple_environment(random_agent,5,100000)\n",
        "  random_10x10 += simple_environment(random_agent,10,100000)\n",
        "  random_100x100 += simple_environment(random_agent,100,100000)\n",
        "\n",
        "  simple_5x5 += simple_environment(simple_agent,5,100000)\n",
        "  simple_10x10 += simple_environment(simple_agent,10,100000)\n",
        "  simple_100x100 += simple_environment(simple_agent,100,100000)\n",
        "\n",
        "  model_5x5 += simple_environment(model_agent_5x5,5,100000)\n",
        "  model_10x10 += simple_environment(model_agent_10x10,10,100000)\n",
        "  model_100x100 += simple_environment(model_agent_100x100,100,100000)\n",
        "\n",
        "random_5x5 /= 100\n",
        "random_10x10 /= 100\n",
        "random_100x100 /= 100\n",
        "simple_5x5 /= 100\n",
        "simple_10x10 /= 100\n",
        "simple_100x100 /= 100\n",
        "model_5x5 /= 100\n",
        "model_10x10 /= 100\n",
        "model_100x100 /= 100\n",
        "print(\"Random 5x5: \", random_5x5)\n",
        "print(\"Random 10x10: \", random_10x10)\n",
        "print(\"Random 100x100: \", random_100x100)\n",
        "print(\"Simple 5x5: \", simple_5x5)\n",
        "print(\"Simple 10x10: \", simple_10x10)\n",
        "print(\"Simple 100x100: \", simple_100x100)\n",
        "print(\"Model 5x5: \", model_5x5)\n",
        "print(\"Model 10x10: \", model_10x10)\n",
        "print(\"Model 100x100: \", model_100x100)\n"
      ]
    },
    {
      "cell_type": "markdown",
      "metadata": {
        "id": "tlAtLmp6jF_k"
      },
      "source": [
        "Fill out the following table with the average performance measure for 100 random runs (you may also create this table with code):\n",
        "\n",
        "| Size     | Randomized Agent | Simple Reflex Agent | Model-based Reflex Agent |\n",
        "|----------|------------------|---------------------|--------------------------|\n",
        "| 5x5     | | | |\n",
        "| 10x10   | | | |\n",
        "| 100x100 | | | |\n",
        "\n",
        "Add charts to compare the performance of the different agents."
      ]
    },
    {
      "cell_type": "code",
      "execution_count": null,
      "metadata": {
        "id": "J361sF6yjF_k"
      },
      "outputs": [],
      "source": [
        "# Your graphs and discussion of the results goes here"
      ]
    },
    {
      "cell_type": "markdown",
      "metadata": {
        "id": "LVOWQhVOjF_k"
      },
      "source": [
        "## Task 5: Robustness of the agent implementations [10 Points]\n",
        "\n",
        "Describe how **your agent implementations** will perform\n",
        "\n",
        "* if it is put into a rectangular room with unknown size,\n",
        "* if the cleaning area can have an irregular shape (e.g., a hallway connecting two rooms), or\n",
        "* if the room contains obstacles (i.e., squares that it cannot pass through and trigger the bumper sensors)."
      ]
    },
    {
      "cell_type": "code",
      "execution_count": null,
      "metadata": {
        "id": "1d1TRkpcjF_l"
      },
      "outputs": [],
      "source": [
        "# Answer goes here"
      ]
    },
    {
      "cell_type": "markdown",
      "source": [
        "\n",
        "\n",
        "---\n",
        "Assignment adapted from [Michael Hahsler](https://github.com/mhahsler/CS7320-AI) under [CC BY-SA](https://creativecommons.org/licenses/by-sa/4.0/deed.en) license.\n"
      ],
      "metadata": {
        "id": "w9DyCkSckcFB"
      }
    }
  ],
  "metadata": {
    "kernelspec": {
      "display_name": "Python 3 (ipykernel)",
      "language": "python",
      "name": "python3"
    },
    "language_info": {
      "codemirror_mode": {
        "name": "ipython",
        "version": 3
      },
      "file_extension": ".py",
      "mimetype": "text/x-python",
      "name": "python",
      "nbconvert_exporter": "python",
      "pygments_lexer": "ipython3",
      "version": "3.10.12"
    },
    "toc-autonumbering": false,
    "colab": {
      "provenance": []
    }
  },
  "nbformat": 4,
  "nbformat_minor": 0
}